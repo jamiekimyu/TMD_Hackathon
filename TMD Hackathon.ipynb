{
 "cells": [
  {
   "cell_type": "markdown",
   "metadata": {},
   "source": [
    "Propublica Congress API demo\n",
    "Based on demo at https://propublica-congress.readthedocs.io/en/latest/\n",
    "(with updates to correct issues)"
   ]
  },
  {
   "cell_type": "code",
   "execution_count": 1,
   "metadata": {
    "collapsed": true
   },
   "outputs": [],
   "source": [
    "API_KEY = \"3r3xEpMUN1doWIpz34qu2tbtmuc0dXSkdBhvBw3h\"\n",
    "\n",
    "from congress import Congress\n",
    "congress = Congress(API_KEY)"
   ]
  },
  {
   "cell_type": "markdown",
   "metadata": {},
   "source": [
    "Using Members endpoint:"
   ]
  },
  {
   "cell_type": "code",
   "execution_count": 2,
   "metadata": {},
   "outputs": [
    {
     "data": {
      "text/plain": [
       "'NancyPelosi'"
      ]
     },
     "execution_count": 2,
     "metadata": {},
     "output_type": "execute_result"
    }
   ],
   "source": [
    "# get member by bioguide ID\n",
    "pelosi = congress.members.get('P000197')\n",
    "\n",
    "pelosi['twitter_account']"
   ]
  },
  {
   "cell_type": "markdown",
   "metadata": {},
   "source": [
    "Bills endpoint: \n",
    "\n",
    "Get recent House bills\n",
    "Tecent bills come in two types: 'introduced' and 'updated'"
   ]
  },
  {
   "cell_type": "code",
   "execution_count": 3,
   "metadata": {},
   "outputs": [
    {
     "data": {
      "text/plain": [
       "20"
      ]
     },
     "execution_count": 3,
     "metadata": {},
     "output_type": "execute_result"
    }
   ],
   "source": [
    "introdcued = congress.bills.recent(\n",
    "    chamber ='house',\n",
    "    congress=115,\n",
    "    type    ='introduced')\n",
    "# Or: introduced = congress.bills.introduced('house')\n",
    "\n",
    "len(introdcued['bills'])"
   ]
  },
  {
   "cell_type": "code",
   "execution_count": 4,
   "metadata": {},
   "outputs": [
    {
     "data": {
      "text/plain": [
       "20"
      ]
     },
     "execution_count": 4,
     "metadata": {},
     "output_type": "execute_result"
    }
   ],
   "source": [
    "passed = congress.bills.passed('senate')\n",
    "len(passed['bills'])"
   ]
  },
  {
   "cell_type": "code",
   "execution_count": 5,
   "metadata": {
    "scrolled": true
   },
   "outputs": [
    {
     "data": {
      "text/plain": [
       "{'active': True,\n",
       " 'bill_id': 's2372-115',\n",
       " 'bill_slug': 's2372',\n",
       " 'bill_type': 's',\n",
       " 'bill_uri': 'https://api.propublica.org/congress/v1/115/bills/s2372.json',\n",
       " 'committee_codes': ['SSVA'],\n",
       " 'committees': 'Senate Veterans&#39; Affairs Committee',\n",
       " 'congressdotgov_url': 'https://www.congress.gov/bill/115th-congress/senate-bill/2372',\n",
       " 'cosponsors': 7,\n",
       " 'cosponsors_by_party': {'D': 1, 'R': 6},\n",
       " 'enacted': None,\n",
       " 'govtrack_url': 'https://www.govtrack.us/congress/bills/115/s2372',\n",
       " 'gpo_pdf_uri': None,\n",
       " 'house_passage': None,\n",
       " 'introduced_date': '2018-02-05',\n",
       " 'last_vote': None,\n",
       " 'latest_major_action': 'Passed Senate without amendment by Unanimous Consent. (text: CR S1321)',\n",
       " 'latest_major_action_date': '2018-03-01',\n",
       " 'number': 'S.2372',\n",
       " 'primary_subject': 'Armed Forces and National Security',\n",
       " 'senate_passage': '2018-03-01',\n",
       " 'short_title': 'Veterans Cemetery Benefit Correction Act',\n",
       " 'sponsor_id': 'I000055',\n",
       " 'sponsor_name': 'Johnny Isakson',\n",
       " 'sponsor_party': 'R',\n",
       " 'sponsor_state': 'GA',\n",
       " 'sponsor_title': 'Sen.',\n",
       " 'sponsor_uri': 'https://api.propublica.org/congress/v1/members/I000055.json',\n",
       " 'subcommittee_codes': [],\n",
       " 'summary': 'Veterans Cemetery Benefit Correction Act  This bill requires the Department of the Interior to provide outer burial receptacles for veterans remains buried in open cemeteries administered by the National Park Service.  The use of outer burial receptacles in such cemeteries shall be in accordance with regulations or procedures approved by the Department of Veterans Affairs or the Department of the Army. ',\n",
       " 'summary_short': 'Veterans Cemetery Benefit Correction Act  This bill requires the Department of the Interior to provide outer burial receptacles for veterans remains buried in open cemeteries administered by the National Park Service.  The use of outer burial receptacles in such cemeteries shall be in accordance with regulations or procedures approved by the Department of Veterans Affairs or the Department of the Army. ',\n",
       " 'title': 'A bill to amend title 38, United States Code, to provide outer burial receptacles for remains buried in National Parks, and for other purposes.',\n",
       " 'vetoed': None}"
      ]
     },
     "execution_count": 5,
     "metadata": {},
     "output_type": "execute_result"
    }
   ],
   "source": [
    "passed['bills'][0]"
   ]
  },
  {
   "cell_type": "markdown",
   "metadata": {
    "collapsed": true
   },
   "source": [
    "# TMD Prototype"
   ]
  },
  {
   "cell_type": "code",
   "execution_count": 6,
   "metadata": {
    "collapsed": true
   },
   "outputs": [],
   "source": [
    "API_KEY = \"497fc6221645501a5fa631cc82244565\"\n",
    "\n",
    "from crpapi import CRP\n",
    "crp = CRP(API_KEY)"
   ]
  },
  {
   "cell_type": "code",
   "execution_count": 7,
   "metadata": {},
   "outputs": [
    {
     "name": "stdout",
     "output_type": "stream",
     "text": [
      "PELOSI\n"
     ]
    }
   ],
   "source": [
    "# get a specific legislator by CID\n",
    "cand = crp.candidates.get('N00007360')\n",
    "print(cand['@attributes']['lastname'])"
   ]
  },
  {
   "cell_type": "code",
   "execution_count": 8,
   "metadata": {},
   "outputs": [
    {
     "name": "stdout",
     "output_type": "stream",
     "text": [
      "{'@attributes': {'cid': 'N00007360', 'firstlast': 'Nancy Pelosi', 'lastname': 'PELOSI', 'party': 'D', 'office': 'CA12', 'gender': 'F', 'first_elected': '1987', 'exit_code': '0', 'comments': '', 'phone': '202-225-4965', 'fax': '202-225-8259', 'website': 'http://pelosi.house.gov', 'webform': 'http://pelosi.house.gov/contact-me/email-me', 'congress_office': '233 Cannon House Office Building', 'bioguide_id': 'P000197', 'votesmart_id': '26732', 'feccandid': 'H8CA05035', 'twitter_id': 'NancyPelosi', 'youtube_url': 'https://youtube.com/nancypelosi', 'facebook_id': 'NancyPelosi', 'birthdate': '1940-03-26'}}\n"
     ]
    }
   ],
   "source": [
    "print(cand)"
   ]
  },
  {
   "cell_type": "code",
   "execution_count": null,
   "metadata": {
    "collapsed": true
   },
   "outputs": [],
   "source": [
    "# get a specific legislator by CID\n",
    "cand = crp.candidates.get('N00007360')\n",
    "cand['lastname']\n",
    "'PELOSI'\n",
    "\n",
    "# get the top contributors to a candidate for a specific cycle\n",
    "contribs = crp.candidates.contrib('N00007360', '2016')\n",
    "contribs[0]['@attributes']['org_name']\n",
    "'ActBlue'\n",
    "\n",
    "# get fundraising information for a committee's members, by industry\n",
    "cmte = crp.committees.cmte_by_ind('HARM', 'F10')\n",
    "cmte[0]['@attributes']['member_name']\n",
    "'Heck, Joe'\n",
    "\n",
    "# use fetch to access the endpoints more directly, without pre-parsed results\n",
    "summ = crp.fetch('candSummary', cid='N00007360')\n",
    "summ['summary']['@attributes']['first_elected']\n",
    "'1987'"
   ]
  }
 ],
 "metadata": {
  "kernelspec": {
   "display_name": "Python 3",
   "language": "python",
   "name": "python3"
  },
  "language_info": {
   "codemirror_mode": {
    "name": "ipython",
    "version": 3
   },
   "file_extension": ".py",
   "mimetype": "text/x-python",
   "name": "python",
   "nbconvert_exporter": "python",
   "pygments_lexer": "ipython3",
   "version": "3.6.3"
  }
 },
 "nbformat": 4,
 "nbformat_minor": 2
}
